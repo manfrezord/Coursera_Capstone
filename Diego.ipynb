

+*In[2]:*+
[source, ]
----
import pandas as pd
----


+*In[3]:*+
[source, ]
----
import numpy as np
----


+*In[5]:*+
[source, ]
----
print('Hello Capstone Project Course!')
----


+*Out[5]:*+
----
Hello Capstone Project Course!
----


+*In[ ]:*+
[source, ]
----

----
